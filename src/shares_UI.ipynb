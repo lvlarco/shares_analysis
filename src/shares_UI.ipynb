{
 "cells": [
  {
   "cell_type": "code",
   "execution_count": 1,
   "metadata": {},
   "outputs": [
    {
     "data": {
      "text/html": [
       "<script>\n",
       "code_show=true; \n",
       "function code_toggle() {\n",
       " if (code_show){\n",
       " $('div.input').hide();\n",
       " } else {\n",
       " $('div.input').show();\n",
       " }\n",
       " code_show = !code_show\n",
       "} \n",
       "$( document ).ready(code_toggle);\n",
       "</script>\n",
       "<form action=\"javascript:code_toggle()\">\n",
       "<input type=\"submit\" value=\"Click here to view the raw code\"></form>"
      ],
      "text/plain": [
       "<IPython.core.display.HTML object>"
      ]
     },
     "execution_count": 1,
     "metadata": {},
     "output_type": "execute_result"
    }
   ],
   "source": [
    "from IPython.display import HTML\n",
    "\n",
    "HTML('''<script>\n",
    "code_show=true; \n",
    "function code_toggle() {\n",
    " if (code_show){\n",
    " $('div.input').hide();\n",
    " } else {\n",
    " $('div.input').show();\n",
    " }\n",
    " code_show = !code_show\n",
    "} \n",
    "$( document ).ready(code_toggle);\n",
    "</script>\n",
    "<form action=\"javascript:code_toggle()\">\n",
    "<input type=\"submit\" value=\"Click here to view the raw code\"></form>''')"
   ]
  },
  {
   "cell_type": "markdown",
   "metadata": {},
   "source": [
    "# Ticker Plotter\n",
    "Start by selecting the Holding of interest and defining a period time along the interval"
   ]
  },
  {
   "cell_type": "code",
   "execution_count": 1,
   "metadata": {},
   "outputs": [],
   "source": [
    "import os\n",
    "import sys\n",
    "from inspect import getsourcefile\n",
    "\n",
    "CURRENT_PATH = os.path.abspath(getsourcefile(lambda: 0))\n",
    "ROOT_DIR = os.path.dirname(os.path.dirname(CURRENT_PATH))\n",
    "PARENT_DIR = ROOT_DIR[: ROOT_DIR.rfind(os.path.sep)]\n",
    "sys.path.insert(0, os.path.join(PARENT_DIR, \"sources_repo/yfinance\"))"
   ]
  },
  {
   "cell_type": "code",
   "execution_count": 3,
   "metadata": {},
   "outputs": [],
   "source": [
    "import api_requests as ar\n",
    "import chart_studio.plotly as py\n",
    "import plotly.graph_objs as go\n",
    "import cufflinks as cf\n",
    "import pandas as pd\n",
    "import yfinance as yf\n",
    "import holding_util as hu\n",
    "import numpy as np\n",
    "import plotly.express as px\n",
    "\n",
    "from ipywidgets import widgets, interact, interact_manual, HTML\n",
    "from IPython.display import clear_output, display\n",
    "from traitlets import traitlets\n",
    "\n",
    "#Information\n",
    "path=r\"C:\\Users\\Marco\\Documents\"\n",
    "file_name=\"investment_shares.csv\"\n",
    "df = ar.load_csv(path, file_name)\n",
    "holdings_list = ar.create_shares_list(df)\n",
    "\n",
    "plotting_time = {\"period\":{\"1 day\": \"1d\",\n",
    "                           \"5 days\": \"5d\",\n",
    "                           \"1 month\": \"1mo\",\n",
    "                           \"3 months\": \"3mo\",\n",
    "                           \"6 months\": \"6mo\",\n",
    "                           \"1 year\": \"1y\",\n",
    "                           \"2 years\": \"2y\",\n",
    "                           \"5 years\": \"5y\",\n",
    "                           \"10 years\": \"10y\",\n",
    "                           \"Year-to-date\": \"ytd\",\n",
    "                           \"Max\": \"max\"},\n",
    "                \"interval\": {\"1 minute\": \"1m\",\n",
    "                             \"5 minutes\": \"5m\",\n",
    "                             \"30 minutes\": \"30m\",\n",
    "                             \"60 minutes\": \"60m\",\n",
    "                             \"1 hour\": \"1h\",\n",
    "                             \"1 day\": \"1d\",\n",
    "                             \"5 days\": \"5d\",\n",
    "                             \"1 week\": \"1wk\",\n",
    "                             \"1 month\": \"1mo\"}}\n",
    "\n",
    "per_value_list = list(plotting_time.get('period').values())\n",
    "per_key_list = list(plotting_time.get('period'))\n",
    "period_list = list(zip(per_key_list, per_value_list))\n",
    "inter_value_list = list(plotting_time.get('interval').values())\n",
    "inter_key_list = list(plotting_time.get('interval'))\n",
    "interval_list = list(zip(inter_key_list, inter_value_list))"
   ]
  },
  {
   "cell_type": "code",
   "execution_count": 4,
   "metadata": {},
   "outputs": [
    {
     "data": {
      "application/vnd.jupyter.widget-view+json": {
       "model_id": "6416ec9bc0c34a7c86486c7e9aecb21d",
       "version_major": 2,
       "version_minor": 0
      },
      "text/plain": [
       "Dropdown(description='Holding:', index=4, options=('ATVI', 'WM', 'NOBL', 'VOO', 'MU', 'BAM', 'QQQ', 'YUM', 'HP…"
      ]
     },
     "metadata": {},
     "output_type": "display_data"
    },
    {
     "data": {
      "application/vnd.jupyter.widget-view+json": {
       "model_id": "85d96de956dd4edea969fc50592897db",
       "version_major": 2,
       "version_minor": 0
      },
      "text/plain": [
       "Dropdown(description='Period:', index=3, options=(('1 day', '1d'), ('5 days', '5d'), ('1 month', '1mo'), ('3 m…"
      ]
     },
     "metadata": {},
     "output_type": "display_data"
    },
    {
     "data": {
      "application/vnd.jupyter.widget-view+json": {
       "model_id": "c4f2d4b0b9a144e682efe5844c2c699f",
       "version_major": 2,
       "version_minor": 0
      },
      "text/plain": [
       "Dropdown(description='Interval:', index=5, options=(('1 minute', '1m'), ('5 minutes', '5m'), ('30 minutes', '3…"
      ]
     },
     "metadata": {},
     "output_type": "display_data"
    },
    {
     "data": {
      "text/html": [
       "<div>\n",
       "<style scoped>\n",
       "    .dataframe tbody tr th:only-of-type {\n",
       "        vertical-align: middle;\n",
       "    }\n",
       "\n",
       "    .dataframe tbody tr th {\n",
       "        vertical-align: top;\n",
       "    }\n",
       "\n",
       "    .dataframe thead th {\n",
       "        text-align: right;\n",
       "    }\n",
       "</style>\n",
       "<table border=\"1\" class=\"dataframe\">\n",
       "  <thead>\n",
       "    <tr style=\"text-align: right;\">\n",
       "      <th></th>\n",
       "      <th></th>\n",
       "    </tr>\n",
       "  </thead>\n",
       "  <tbody>\n",
       "    <tr>\n",
       "      <th>Name</th>\n",
       "      <td>Micron Technology, Inc.</td>\n",
       "    </tr>\n",
       "    <tr>\n",
       "      <th>Sector</th>\n",
       "      <td>Technology</td>\n",
       "    </tr>\n",
       "    <tr>\n",
       "      <th>Industry</th>\n",
       "      <td>Semiconductors</td>\n",
       "    </tr>\n",
       "    <tr>\n",
       "      <th>Market Price</th>\n",
       "      <td>USD 45.23</td>\n",
       "    </tr>\n",
       "    <tr>\n",
       "      <th>Payout Ratio</th>\n",
       "      <td>None</td>\n",
       "    </tr>\n",
       "    <tr>\n",
       "      <th>Div Yield</th>\n",
       "      <td>None</td>\n",
       "    </tr>\n",
       "    <tr>\n",
       "      <th>Market</th>\n",
       "      <td>NMS</td>\n",
       "    </tr>\n",
       "  </tbody>\n",
       "</table>\n",
       "</div>"
      ],
      "text/plain": [
       "                                     \n",
       "Name          Micron Technology, Inc.\n",
       "Sector                     Technology\n",
       "Industry               Semiconductors\n",
       "Market Price                USD 45.23\n",
       "Payout Ratio                     None\n",
       "Div Yield                        None\n",
       "Market                            NMS"
      ]
     },
     "metadata": {},
     "output_type": "display_data"
    },
    {
     "name": "stdout",
     "output_type": "stream",
     "text": [
      "An error occurred retrieving data for MU\n"
     ]
    }
   ],
   "source": [
    "#Dropdowns\n",
    "ticker_dd = widgets.Dropdown(options=holdings_list,\n",
    "                           description=\"Holding:\",\n",
    "                           disabled=False,\n",
    "                           value=None)\n",
    "\n",
    "period_dd = widgets.Dropdown(options=period_list,\n",
    "                             description=\"Period:\",\n",
    "                             disabled=False,\n",
    "                             value=None)\n",
    "\n",
    "interval_dd = widgets.Dropdown(options=interval_list,\n",
    "                                description=\"Interval:\",\n",
    "                                disabled=False,\n",
    "                                value=None)\n",
    "\n",
    "def on_plotting_change(change):\n",
    "    if period_dd.value and interval_dd.value:\n",
    "        clear_output()\n",
    "        display(ticker_dd, period_dd, interval_dd)\n",
    "        on_ticker_change()\n",
    "        try:\n",
    "            tick = yf.Ticker(str(ticker))\n",
    "            ticker_plot(tick, period=period_dd.value, interval=interval_dd.value)\n",
    "        except:\n",
    "            print(\"An error occurred retrieving data for {}\".format(str(ticker).upper()))\n",
    "        \n",
    "def on_global_variable_change(change):\n",
    "    global ticker\n",
    "    ticker = ticker_dd.value\n",
    "    \n",
    "def on_ticker_change():\n",
    "    if ticker_dd.value:\n",
    "        clear_output()\n",
    "        display(ticker_dd, period_dd, interval_dd)\n",
    "        try:\n",
    "            tick = yf.Ticker(ticker_dd.value)\n",
    "            info = tick.info\n",
    "            info_dict = {}\n",
    "            value_list = ['shortName', 'sector']\n",
    "#             if info.get('payoutRatio'):\n",
    "#                 pay_ratio = convert_perc(float(info.get('payoutRatio')))\n",
    "#             if info.get('dividend')\n",
    "            info_dict = {\"Name\": info.get('shortName'),\n",
    "                         \"Sector\": info.get('sector'),\n",
    "                         \"Industry\": info.get('industry'),\n",
    "                         \"Market Price\": \"{} {}\".format(info.get('currency'),\n",
    "                                                        info.get('regularMarketPrice')),\n",
    "                         \"Payout Ratio\": ar.convert_to_perc(info.get('payoutRatio')),\n",
    "                         \"Div Yield\": ar.convert_to_perc(info.get('dividendYield')),\n",
    "                         \"Market\": info.get('exchange')}\n",
    "            info_df = pd.DataFrame.from_dict(info_dict,\n",
    "                                             orient='index',\n",
    "                                             columns=[\"\"])\n",
    "            display(info_df)\n",
    "        except (IndexError, AttributeError):\n",
    "            print(\"No information available for {}\".format(str(ticker_dd.value)))\n",
    "\n",
    "def ticker_plot(tick, period=\"1y\", interval=\"1d\"):\n",
    "    hist = tick.history(period=period, interval=interval)\n",
    "    fig = go.Figure()\n",
    "    fig.add_trace(go.Scatter(y=hist.Close,\n",
    "                             x=hist.index,\n",
    "                             name=str(ticker.upper())))\n",
    "    fig.update_layout(title={'text': str(ticker.upper()),\n",
    "                             'y':0.9,\n",
    "                             'x':0.5,\n",
    "                             'xanchor': 'center',\n",
    "                             'yanchor': 'top'},\n",
    "                      yaxis_title=\"Price [{}]\".format(tick.info.get('currency')))\n",
    "    display(py.iplot(fig))\n",
    "    \n",
    "ticker_dd.observe(on_global_variable_change, names=\"value\")\n",
    "period_dd.observe(on_plotting_change, names=\"value\")\n",
    "interval_dd.observe(on_plotting_change, names=\"value\")\n",
    "display(ticker_dd, period_dd, interval_dd)\n"
   ]
  },
  {
   "cell_type": "markdown",
   "metadata": {},
   "source": [
    "# ETF Portfolio\n",
    "Select an ETF to see its top holdings"
   ]
  },
  {
   "cell_type": "code",
   "execution_count": 6,
   "metadata": {},
   "outputs": [
    {
     "data": {
      "application/vnd.jupyter.widget-view+json": {
       "model_id": "0d20a40b23af42ba8988e68f749de951",
       "version_major": 2,
       "version_minor": 0
      },
      "text/plain": [
       "Dropdown(description='ETF:', index=4, options=('NOBL', 'VOO', 'QQQ', 'BOTZ', 'VXUS', 'VYMI'), value='VXUS')"
      ]
     },
     "metadata": {},
     "output_type": "display_data"
    },
    {
     "name": "stdout",
     "output_type": "stream",
     "text": [
      "Retrieving data for VXUS...\n"
     ]
    }
   ],
   "source": [
    "#ETF Portfolio\n",
    "etf_df = ar.df_by_type(df, \"ETF\")\n",
    "etf_list = etf_df.holding\n",
    "\n",
    "etf_dd = widgets.Dropdown(options=etf_list,\n",
    "                          description=\"ETF:\",\n",
    "                          disabled=False,\n",
    "                          value=None)\n",
    "\n",
    "def on_etf_change(change):\n",
    "    if etf_dd.value:\n",
    "        global holdings_df\n",
    "        global tickers_list\n",
    "        clear_output()\n",
    "        display(etf_dd)\n",
    "        print(\"Retrieving data for {}...\".format(etf_dd.value))\n",
    "        tick = hu.Holding(etf_dd.value)\n",
    "        holdings_df = tick.scrape_holdings(source=\"etfdb\")\n",
    "        hold_tot_perc = round(sum(holdings_df[\"% Assets\"]), 2)\n",
    "\n",
    "#         #Using Tickers\n",
    "#         tickers_list = \" \".join(holdings_df.index)\n",
    "#         tickers = hu.Holdings(tickers_list)\n",
    "#         holdings_df['Sector'] = tickers.return_sector_list()\n",
    "        \n",
    "        #Using ScrapeHolding\n",
    "        tickers_list = holdings_df.index\n",
    "        sh = hu.ScrapeHolding(holdings_list=tickers_list)\n",
    "        holdings_df[\"Sector\"] = sh.scrape_json_values(detail_key=\"sector\")\n",
    "        \n",
    "        sum_percent = round(sum(holdings_df[\"% Assets\"]), 2)\n",
    "        \n",
    "        display(holdings_df)\n",
    "        print(\"Top {} holdings represent {}% of total assets\".format(len(holdings_df.index), hold_tot_perc))\n",
    "        row = pd.DataFrame([(\"Other\", 100-sum_percent, \"Other\")],\n",
    "                           columns=[\"Name\", \"% Assets\", \"Sector\"],\n",
    "                           index=[\"Other\"])\n",
    "        asset_other_df = holdings_df.append(row, sort=True)\n",
    "        holdings_pie(asset_other_df)\n",
    "        \n",
    "        holdings_df[\"Country\"] = sh.scrape_json_values(detail_key=\"country\")\n",
    "        countries_map(holdings_df[\"Country\"])\n",
    "        \n",
    "        \n",
    "def holdings_pie(df):\n",
    "    labels = df[\"Sector\"]\n",
    "    values = df[\"% Assets\"]\n",
    "    fig = go.Figure(data=[go.Pie(labels=labels,\n",
    "                                 values=values,\n",
    "                                 hoverinfo='label+percent',\n",
    "                                 textinfo='label+percent')])\n",
    "    fig.show()\n",
    "    \n",
    "\n",
    "def countries_map(country_list):\n",
    "    country_df = pd.DataFrame()\n",
    "    country_df[\"Country\"] = country_list\n",
    "    country_df[\"Country Code\"] = ar.return_alpha3_list(country_list)\n",
    "    country_df['% Assets'] = holdings_df[\"% Assets\"]\n",
    "    group_df = country_df.groupby('Country Code').sum().reset_index()\n",
    "    group_df[\"Country\"] = ar.return_country_name_list(group_df[\"Country Code\"])\n",
    "\n",
    "    fig = px.choropleth(group_df,\n",
    "                        locations=\"Country Code\",\n",
    "    #                     locationmode = \"country names\",\n",
    "                        color=\"% Assets\",\n",
    "                        hover_name=\"Country\",\n",
    "                        color_continuous_scale=px.colors.sequential.Purpor,\n",
    "                        scope='world')\n",
    "    \n",
    "    # fig = go.Figure(data=go.Choropleth(locations=group_df[\"Country Code\"],\n",
    "    #                                    z = group_df[\"% Assets\"],\n",
    "    #                                    colorscale = 'Blues',\n",
    "    #                                    autocolorscale = True,\n",
    "    # #                                    text = group_df[\"Country\"],\n",
    "    #                                    marker_line_color = 'black',\n",
    "    \n",
    "    #                                    colorbar_ticksuffix = \"%\",\n",
    "    #                                    marker_line_width = 0.75,))\n",
    "    \n",
    "    fig.update_layout(\n",
    "        title_text = \"Top {} Assets by Country\".format(len(country_list)),\n",
    "        title_x = 0.5,\n",
    "        geo=dict(showframe = False,\n",
    "                 showcoastlines = False,\n",
    "                 projection_type = 'equirectangular'))\n",
    "    fig.show()\n",
    "\n",
    "etf_dd.observe(on_etf_change, names=\"value\")\n",
    "display(etf_dd)\n"
   ]
  },
  {
   "cell_type": "code",
   "execution_count": null,
   "metadata": {},
   "outputs": [],
   "source": [
    "# #CSV scraping\n",
    "# url = 'https://www.ishares.com/us/products/239705/ishares-phlx-semiconductor-etf/\\\n",
    "# 1467271812596.ajax?fileType=csv&fileName=SOXX_holdings&dataType=fund'\n",
    "\n",
    "# df = pd.read_csv(url, skiprows=9)    \n",
    "# df.head()\n"
   ]
  },
  {
   "cell_type": "code",
   "execution_count": null,
   "metadata": {},
   "outputs": [],
   "source": [
    "# #Creating Stocks dataframe\n",
    "# df = ar.compile_shares_df(df)\n",
    "# stock_df = ar.df_by_type(df, 'Stock')\n",
    "# weekend_check = ar.is_weekend()\n",
    "# history_df = ar.create_history_summary(stock_df.holding, period='1y', interval='1d')\n",
    "# last_close_value = ar.last_close(history_df)\n",
    "# combined_df = ar.join_shares_history_df(stock_df, history_df)\n",
    "# combined_df = ar.calc_share_gain(combined_df, weekend_check)\n",
    "# combined_df.head()"
   ]
  },
  {
   "cell_type": "code",
   "execution_count": null,
   "metadata": {},
   "outputs": [],
   "source": [
    "# interact_manual=interact_manual.options(manual_name=\"Run\")\n",
    "# @interact_manual(Holding=df_btn.holdings_list)\n",
    "# def ticker_info(Holding):\n",
    "#     tick = yf.Ticker(Holding)\n",
    "#     info = tick.info\n",
    "#     info_dict = {\"name\": info['shortName'],\n",
    "#                  \"sector\": info['sector'],\n",
    "#                  \"industry\": info['industry'],\n",
    "#                  \"payout_perc\": round(info['payoutRatio'] * 100, 2),\n",
    "#                  \"div_yield_perc\": round(info['dividendYield'] * 100, 2),\n",
    "#                  \"xchange_mkt\": info['exchange'],\n",
    "#                  \"pe_ratio\": info['pegRatio'],\n",
    "#                  \"price_USD\": info['regularMarketPrice']}\n",
    "#     info_df = pd.DataFrame.from_dict(info_dict,\n",
    "#                                      orient='index',\n",
    "#                                      columns=[str(Holding)])\n",
    "#     return info_df"
   ]
  },
  {
   "cell_type": "code",
   "execution_count": null,
   "metadata": {},
   "outputs": [],
   "source": [
    "# class LoadedButton(widgets.Button):\n",
    "#     \"\"\"A button that can holds a value as a attribute.\"\"\"\n",
    "\n",
    "#     def __init__(self, path=None, file_name=None, df=None, holding_list=None,*args, **kwargs):\n",
    "#         super(LoadedButton, self).__init__(*args, **kwargs)\n",
    "#         # Create the value attribute.\n",
    "#         self.path=path\n",
    "#         self.file_name=file_name\n",
    "#         self.add_traits(df=traitlets.Any(df))\n",
    "#         self.add_traits(holding_list=traitlets.Any(holding_list))\n",
    "        \n",
    "# def return_holding_list(ex):\n",
    "#     clear_output()\n",
    "#     display(df_btn)\n",
    "#     ex.df = ar.load_csv(ex.path, ex.file_name)\n",
    "#     ex.holding_list = ex.df['holding']\n",
    "\n",
    "# df_btn = LoadedButton(description=\"Load CSV\",\n",
    "#                       path=path,\n",
    "#                       file_name=file_name)\n",
    "# df_btn.on_click(return_holding_list)\n",
    "# display(df_btn)"
   ]
  },
  {
   "cell_type": "code",
   "execution_count": null,
   "metadata": {},
   "outputs": [],
   "source": []
  }
 ],
 "metadata": {
  "kernelspec": {
   "display_name": "Python 3",
   "language": "python",
   "name": "python3"
  },
  "language_info": {
   "codemirror_mode": {
    "name": "ipython",
    "version": 3
   },
   "file_extension": ".py",
   "mimetype": "text/x-python",
   "name": "python",
   "nbconvert_exporter": "python",
   "pygments_lexer": "ipython3",
   "version": "3.8.0"
  }
 },
 "nbformat": 4,
 "nbformat_minor": 4
}
